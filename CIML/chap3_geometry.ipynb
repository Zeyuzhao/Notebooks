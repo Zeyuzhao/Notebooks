{
 "cells": [
  {
   "cell_type": "markdown",
   "metadata": {},
   "source": [
    "# Chapter 3\n",
    "## Geometry and Nearest Neighbors\n",
    "\n",
    "In this chapter, we view data through a geometric lense. A feature vector is a way of visualizing a collection of feature variables.\n",
    "\n",
    "Procedure for mapping data -> features:\n",
    "* For real valued data -> individual features\n",
    "* For boolean data -> 0/1 for each features\n",
    "* For catagorical data -> 0/1 binary indicators for each possible value\n",
    "\n",
    "For example, a color feature with red, green and blue values would recieve an encoding of isRed, isBlue and is Green.\n"
   ]
  },
  {
   "cell_type": "markdown",
   "metadata": {},
   "source": [
    "## Data Preperation"
   ]
  },
  {
   "cell_type": "code",
   "execution_count": 133,
   "metadata": {},
   "outputs": [],
   "source": [
    "# K-Nearest Neighbor Data\n",
    "\n",
    "# Class Ratings dataset from CIML.\n",
    "# Columns: Course Rating (Label), Easy, AI, Systems, Theory, Morning. "
   ]
  },
  {
   "cell_type": "code",
   "execution_count": 179,
   "metadata": {},
   "outputs": [],
   "source": [
    "import pandas as pd\n",
    "from collections import Counter\n",
    "\n",
    "\n",
    "df = pd.read_csv(\"class_ratings.csv\")\n",
    "lh = df.copy()\n",
    "\n",
    "# Convert integer evaluations to neg/pos (0/1) evaluations.\n",
    "lh.loc[df[\"y\"] >= 0, \"y\"] = 1\n",
    "lh.loc[df[\"y\"] < 0, \"y\"] = 0\n",
    "\n",
    "# Replace \"n\" and \"y\" with 0 and 1. \n",
    "lh.replace(\"y\", 1, inplace=True)\n",
    "lh.replace(\"n\", 0, inplace=True)"
   ]
  },
  {
   "cell_type": "code",
   "execution_count": 180,
   "metadata": {},
   "outputs": [
    {
     "data": {
      "text/html": [
       "<div>\n",
       "<style scoped>\n",
       "    .dataframe tbody tr th:only-of-type {\n",
       "        vertical-align: middle;\n",
       "    }\n",
       "\n",
       "    .dataframe tbody tr th {\n",
       "        vertical-align: top;\n",
       "    }\n",
       "\n",
       "    .dataframe thead th {\n",
       "        text-align: right;\n",
       "    }\n",
       "</style>\n",
       "<table border=\"1\" class=\"dataframe\">\n",
       "  <thead>\n",
       "    <tr style=\"text-align: right;\">\n",
       "      <th></th>\n",
       "      <th>y</th>\n",
       "      <th>easy</th>\n",
       "      <th>ai</th>\n",
       "      <th>sys</th>\n",
       "      <th>thy</th>\n",
       "      <th>morning</th>\n",
       "    </tr>\n",
       "  </thead>\n",
       "  <tbody>\n",
       "    <tr>\n",
       "      <th>0</th>\n",
       "      <td>1</td>\n",
       "      <td>1</td>\n",
       "      <td>1</td>\n",
       "      <td>0</td>\n",
       "      <td>1</td>\n",
       "      <td>0</td>\n",
       "    </tr>\n",
       "    <tr>\n",
       "      <th>1</th>\n",
       "      <td>1</td>\n",
       "      <td>1</td>\n",
       "      <td>1</td>\n",
       "      <td>0</td>\n",
       "      <td>1</td>\n",
       "      <td>0</td>\n",
       "    </tr>\n",
       "    <tr>\n",
       "      <th>2</th>\n",
       "      <td>1</td>\n",
       "      <td>0</td>\n",
       "      <td>1</td>\n",
       "      <td>0</td>\n",
       "      <td>0</td>\n",
       "      <td>0</td>\n",
       "    </tr>\n",
       "    <tr>\n",
       "      <th>3</th>\n",
       "      <td>1</td>\n",
       "      <td>0</td>\n",
       "      <td>0</td>\n",
       "      <td>0</td>\n",
       "      <td>1</td>\n",
       "      <td>0</td>\n",
       "    </tr>\n",
       "    <tr>\n",
       "      <th>4</th>\n",
       "      <td>1</td>\n",
       "      <td>0</td>\n",
       "      <td>1</td>\n",
       "      <td>1</td>\n",
       "      <td>0</td>\n",
       "      <td>1</td>\n",
       "    </tr>\n",
       "  </tbody>\n",
       "</table>\n",
       "</div>"
      ],
      "text/plain": [
       "   y  easy  ai  sys  thy  morning\n",
       "0  1     1   1    0    1        0\n",
       "1  1     1   1    0    1        0\n",
       "2  1     0   1    0    0        0\n",
       "3  1     0   0    0    1        0\n",
       "4  1     0   1    1    0        1"
      ]
     },
     "execution_count": 180,
     "metadata": {},
     "output_type": "execute_result"
    }
   ],
   "source": [
    "lh.head()"
   ]
  },
  {
   "cell_type": "code",
   "execution_count": 181,
   "metadata": {},
   "outputs": [],
   "source": [
    "# 80-20 split for training and validation\n",
    "training_lh = lh.drop(df.index[[2, 4, 15, 17]])\n",
    "validation_lh = lh.iloc[[2, 4, 15, 17]]"
   ]
  },
  {
   "cell_type": "code",
   "execution_count": 186,
   "metadata": {},
   "outputs": [
    {
     "data": {
      "text/plain": [
       "y          1\n",
       "easy       0\n",
       "ai         1\n",
       "sys        0\n",
       "thy        0\n",
       "morning    0\n",
       "Name: 2, dtype: int64"
      ]
     },
     "execution_count": 186,
     "metadata": {},
     "output_type": "execute_result"
    }
   ],
   "source": [
    "# iloc is strictly the array index of dataframe\n",
    "# loc uses the row \"id\" number\n",
    "validation_lh.iloc[0]"
   ]
  },
  {
   "cell_type": "markdown",
   "metadata": {},
   "source": [
    "## K-Nearest Neighbors\n",
    "\n",
    "In the K-Nearest Neighbors algorithm, we compute labels for an particular instance by observing the k-nearest examples of that instance in feature space. Each of those neighbors will vote: the most common label will be the result.\n",
    "\n",
    "A smaller k-value would have overfitting effects, a larger k-value would generally be underfitting."
   ]
  },
  {
   "cell_type": "code",
   "execution_count": 188,
   "metadata": {},
   "outputs": [],
   "source": [
    "def kNearestNeighbors(dataset, k, x):\n",
    "    '''\n",
    "    Computes label of x using the k Nearest Neighbor Algorithm\n",
    "    Naive implementation: O(k * n) for each query\n",
    "    Params\n",
    "    Dataset: a pandas dataframe of with features and labels\n",
    "    k: the k-nearest neighbors to consider\n",
    "    x: the input feature vector\n",
    "    \n",
    "    We will be using the hamming distance to evaluate distance between points\n",
    "    '''\n",
    "    # Create a dictionary of distances\n",
    "    distances = dict()\n",
    "    for index, row in dataset.iterrows():\n",
    "        feature_vec = list(row.drop('y'))\n",
    "        distances[index] = distance(x, feature_vec)\n",
    "    \n",
    "    # sort by closest to farthest features\n",
    "    dist_sorted = sorted(distances, key=distances.get) \n",
    "\n",
    "    # Vote based on the k nearest values\n",
    "    y_sum = 0\n",
    "    for i in range(k):\n",
    "        feature_id = dist_sorted[i]\n",
    "        val = dataset.loc[feature_id][\"y\"]\n",
    "        y_sum += 1 if val else -1\n",
    "        \n",
    "    # neg: dislike non-neg: like\n",
    "    return y_sum "
   ]
  },
  {
   "cell_type": "code",
   "execution_count": 174,
   "metadata": {},
   "outputs": [],
   "source": [
    "def distance(x1, x2):\n",
    "    '''x1 and x2 are n-dim binary arrays'''\n",
    "    return sum([x1[i] != x2[i] for i in range(len(x1))])\n",
    "\n",
    "a_test = [1, 0, 1, 0]\n",
    "b_test = [0, 1, 1, 1]\n",
    "assert distance(a_test, b_test) == 3"
   ]
  },
  {
   "cell_type": "code",
   "execution_count": 171,
   "metadata": {},
   "outputs": [
    {
     "name": "stdout",
     "output_type": "stream",
     "text": [
      "Data ID[2] Predicted: 3, Actual: 1\n",
      "Data ID[4] Predicted: -1, Actual: 1\n",
      "Data ID[15] Predicted: -3, Actual: 0\n",
      "Data ID[17] Predicted: -1, Actual: 0\n"
     ]
    }
   ],
   "source": [
    "# Validation Phase\n",
    "k = 3\n",
    "for index, row in validation_lh.iterrows():\n",
    "    x = list(row.drop(\"y\"))\n",
    "    predicted = kNearestNeighbors(training_lh, k, x)\n",
    "    print(\"Data ID[{0}] Predicted: {1}, Actual: {2}\".format(index, predicted, row[\"y\"]))"
   ]
  },
  {
   "cell_type": "code",
   "execution_count": null,
   "metadata": {},
   "outputs": [],
   "source": []
  }
 ],
 "metadata": {
  "kernelspec": {
   "display_name": "Python 3",
   "language": "python",
   "name": "python3"
  },
  "language_info": {
   "codemirror_mode": {
    "name": "ipython",
    "version": 3
   },
   "file_extension": ".py",
   "mimetype": "text/x-python",
   "name": "python",
   "nbconvert_exporter": "python",
   "pygments_lexer": "ipython3",
   "version": "3.7.6"
  }
 },
 "nbformat": 4,
 "nbformat_minor": 4
}
