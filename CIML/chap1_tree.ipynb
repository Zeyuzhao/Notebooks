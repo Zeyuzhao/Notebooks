{
 "cells": [
  {
   "cell_type": "markdown",
   "metadata": {},
   "source": [
    "# Chapter 1\n",
    "## Decision Trees \n",
    "\n",
    "In this notebook, we implement the decision tree in Python. We use the CIML Class Ratings dataset.\n"
   ]
  },
  {
   "cell_type": "markdown",
   "metadata": {},
   "source": [
    "### Load Dataset\n",
    "\n",
    "We use the CIML Class Ratings dataset, and preprocess it by:\n",
    "* Converting integer ratings to binary like/hate (non-neg/neg) ratings\n",
    "* Converting y/n attributes to boolean 0/1s"
   ]
  },
  {
   "cell_type": "code",
   "execution_count": 29,
   "metadata": {},
   "outputs": [],
   "source": [
    "import pandas as pd\n",
    "from collections import Counter\n",
    "df = pd.read_csv(\"class_ratings.csv\")\n",
    "lh = df.copy()\n",
    "\n",
    "# Convert integer ratings (labels) to non-neg/neg ratings (like-hate)\n",
    "lh.loc[df[\"y\"] >= 0, \"y\"] = 1\n",
    "lh.loc[df[\"y\"] < 0, \"y\"] = 0\n",
    "# Convert feature values y/ns to 1/0s\n",
    "lh.replace(\"y\", 1, inplace=True)\n",
    "lh.replace(\"n\", 0, inplace=True)\n",
    "\n",
    "# Create a attribute only dataframe\n",
    "lh_attr = lh.drop(columns=\"y\")"
   ]
  },
  {
   "cell_type": "code",
   "execution_count": 26,
   "metadata": {},
   "outputs": [
    {
     "data": {
      "text/html": [
       "<div>\n",
       "<style scoped>\n",
       "    .dataframe tbody tr th:only-of-type {\n",
       "        vertical-align: middle;\n",
       "    }\n",
       "\n",
       "    .dataframe tbody tr th {\n",
       "        vertical-align: top;\n",
       "    }\n",
       "\n",
       "    .dataframe thead th {\n",
       "        text-align: right;\n",
       "    }\n",
       "</style>\n",
       "<table border=\"1\" class=\"dataframe\">\n",
       "  <thead>\n",
       "    <tr style=\"text-align: right;\">\n",
       "      <th></th>\n",
       "      <th>y</th>\n",
       "      <th>easy</th>\n",
       "      <th>ai</th>\n",
       "      <th>sys</th>\n",
       "      <th>thy</th>\n",
       "      <th>morning</th>\n",
       "    </tr>\n",
       "  </thead>\n",
       "  <tbody>\n",
       "    <tr>\n",
       "      <th>0</th>\n",
       "      <td>1</td>\n",
       "      <td>1</td>\n",
       "      <td>1</td>\n",
       "      <td>0</td>\n",
       "      <td>1</td>\n",
       "      <td>0</td>\n",
       "    </tr>\n",
       "    <tr>\n",
       "      <th>1</th>\n",
       "      <td>1</td>\n",
       "      <td>1</td>\n",
       "      <td>1</td>\n",
       "      <td>0</td>\n",
       "      <td>1</td>\n",
       "      <td>0</td>\n",
       "    </tr>\n",
       "    <tr>\n",
       "      <th>2</th>\n",
       "      <td>1</td>\n",
       "      <td>0</td>\n",
       "      <td>1</td>\n",
       "      <td>0</td>\n",
       "      <td>0</td>\n",
       "      <td>0</td>\n",
       "    </tr>\n",
       "    <tr>\n",
       "      <th>3</th>\n",
       "      <td>1</td>\n",
       "      <td>0</td>\n",
       "      <td>0</td>\n",
       "      <td>0</td>\n",
       "      <td>1</td>\n",
       "      <td>0</td>\n",
       "    </tr>\n",
       "    <tr>\n",
       "      <th>4</th>\n",
       "      <td>1</td>\n",
       "      <td>0</td>\n",
       "      <td>1</td>\n",
       "      <td>1</td>\n",
       "      <td>0</td>\n",
       "      <td>1</td>\n",
       "    </tr>\n",
       "  </tbody>\n",
       "</table>\n",
       "</div>"
      ],
      "text/plain": [
       "   y  easy  ai  sys  thy  morning\n",
       "0  1     1   1    0    1        0\n",
       "1  1     1   1    0    1        0\n",
       "2  1     0   1    0    0        0\n",
       "3  1     0   0    0    1        0\n",
       "4  1     0   1    1    0        1"
      ]
     },
     "execution_count": 26,
     "metadata": {},
     "output_type": "execute_result"
    }
   ],
   "source": [
    "lh.head()"
   ]
  },
  {
   "cell_type": "markdown",
   "metadata": {},
   "source": [
    "## Tree Data Structure\n",
    "\n",
    "Our decision tree classifier only has binary splits. The left split corresponds with `False` value, right split corresponds to `True` value. To evaluate an instance, simply call `root.evaluate(data)`, which will recursive call its children.\n",
    "\n",
    "There are two types of nodes: `Node` and `Leaf`. "
   ]
  },
  {
   "cell_type": "code",
   "execution_count": 11,
   "metadata": {},
   "outputs": [],
   "source": [
    "class Node:\n",
    "    def __init__(self, attr, left, right):\n",
    "        self.attr = attr\n",
    "        self.left = left\n",
    "        self.right = right\n",
    "    def evaluate(self, data):\n",
    "        if not data[self.attr]:\n",
    "            return self.left.evaluate(data)\n",
    "        else:\n",
    "            return self.right.evaluate(data)\n",
    "\n",
    "class Leaf:\n",
    "    def __init__(self, value):\n",
    "        self.attr = value\n",
    "    \n",
    "    def evaluate(self, data = None):\n",
    "        return self.attr"
   ]
  },
  {
   "cell_type": "markdown",
   "metadata": {},
   "source": [
    "## Training Algorithm\n",
    "\n",
    "The `trainDecisionTree()` function will produce a decision tree using the `Node` and `Leaf` classes. This algorithm uses the greedy approach to select splits: at each iteration the cleanest attribute is selected. "
   ]
  },
  {
   "cell_type": "code",
   "execution_count": 27,
   "metadata": {},
   "outputs": [],
   "source": [
    "def trainDecisionTree(data, columns):\n",
    "    label_counts = Counter(data[\"y\"])\n",
    "    freq, num_freq = maxDict(label_counts) # the most frequent label in data\n",
    "    if num_freq == len(data[\"y\"]): # if data contains only one label\n",
    "        return Leaf(freq)\n",
    "    if len(columns) == 0: # if tree ran out of data columns\n",
    "        return Leaf(freq)\n",
    "    scores = {}\n",
    "    for column in columns:\n",
    "        c0 = data[data[column] == 0]\n",
    "        c1 = data[data[column] == 1]\n",
    "        count_c0 = Counter(c0[\"y\"])\n",
    "        count_c1 = Counter(c1[\"y\"])\n",
    "        freq_c0, num_freq_c0 = maxDict(count_c0)\n",
    "        freq_c1, num_freq_c1 = maxDict(count_c1)\n",
    "        scores[column] = (num_freq_c0 + num_freq_c1) / len(data)\n",
    "    best_column, _ = maxDict(scores)\n",
    "    columns.remove(best_column)\n",
    "    left = trainDecisionTree(data[data[best_column] == 0], columns)\n",
    "    right = trainDecisionTree(data[data[best_column] == 1], columns)\n",
    "    return Node(best_column, left, right)\n"
   ]
  },
  {
   "cell_type": "code",
   "execution_count": 12,
   "metadata": {},
   "outputs": [],
   "source": [
    "# Returns the key of the maximum value in dict. \n",
    "# If dict is empty, return (None, 0)\n",
    "def maxDict(count):\n",
    "    if len(count) == 0:\n",
    "        return (None, 0)\n",
    "    m = max(count, key=count.get)\n",
    "    return (m, count[m])"
   ]
  },
  {
   "cell_type": "markdown",
   "metadata": {},
   "source": [
    "## Evaluation"
   ]
  },
  {
   "cell_type": "code",
   "execution_count": 14,
   "metadata": {},
   "outputs": [],
   "source": [
    "def print_tree(node, _  = \"\", _last=True):\n",
    "    print(_ , \"`- \" if _last else \"|- \", node.attr, sep=\"\")\n",
    "    _  += \"   \" if _last else \"|  \"\n",
    "    \n",
    "    if isinstance(node, Node):\n",
    "        # left side\n",
    "        print_tree(node.left, _ , False)\n",
    "        # right side\n",
    "        print_tree(node.right, _ , True)\n"
   ]
  },
  {
   "cell_type": "code",
   "execution_count": 16,
   "metadata": {},
   "outputs": [],
   "source": [
    "root = trainDecisionTree(lh, list(lh.columns)[1:])"
   ]
  },
  {
   "cell_type": "code",
   "execution_count": 18,
   "metadata": {},
   "outputs": [
    {
     "name": "stdout",
     "output_type": "stream",
     "text": [
      "`- sys\n",
      "   |- 1\n",
      "   `- easy\n",
      "      |- ai\n",
      "      |  |- 0\n",
      "      |  `- thy\n",
      "      |     |- morning\n",
      "      |     |  |- None\n",
      "      |     |  `- 1\n",
      "      |     `- None\n",
      "      `- 0\n"
     ]
    }
   ],
   "source": [
    "print_tree(root)"
   ]
  },
  {
   "cell_type": "code",
   "execution_count": 28,
   "metadata": {},
   "outputs": [
    {
     "name": "stdout",
     "output_type": "stream",
     "text": [
      "{'easy': 1, 'ai': 1, 'sys': 0, 'thy': 1, 'morning': 0}\tLabel: 1, Predicted: 1\n",
      "{'easy': 1, 'ai': 1, 'sys': 0, 'thy': 1, 'morning': 0}\tLabel: 1, Predicted: 1\n",
      "{'easy': 0, 'ai': 1, 'sys': 0, 'thy': 0, 'morning': 0}\tLabel: 1, Predicted: 1\n",
      "{'easy': 0, 'ai': 0, 'sys': 0, 'thy': 1, 'morning': 0}\tLabel: 1, Predicted: 1\n",
      "{'easy': 0, 'ai': 1, 'sys': 1, 'thy': 0, 'morning': 1}\tLabel: 1, Predicted: 1\n",
      "{'easy': 1, 'ai': 1, 'sys': 0, 'thy': 0, 'morning': 0}\tLabel: 1, Predicted: 1\n",
      "{'easy': 1, 'ai': 1, 'sys': 0, 'thy': 1, 'morning': 0}\tLabel: 1, Predicted: 1\n",
      "{'easy': 0, 'ai': 1, 'sys': 0, 'thy': 1, 'morning': 0}\tLabel: 1, Predicted: 1\n",
      "{'easy': 0, 'ai': 0, 'sys': 0, 'thy': 0, 'morning': 1}\tLabel: 1, Predicted: 1\n",
      "{'easy': 1, 'ai': 0, 'sys': 0, 'thy': 1, 'morning': 1}\tLabel: 1, Predicted: 1\n",
      "{'easy': 0, 'ai': 1, 'sys': 0, 'thy': 1, 'morning': 0}\tLabel: 1, Predicted: 1\n",
      "{'easy': 1, 'ai': 1, 'sys': 1, 'thy': 1, 'morning': 1}\tLabel: 1, Predicted: 0\n",
      "{'easy': 1, 'ai': 1, 'sys': 1, 'thy': 0, 'morning': 1}\tLabel: 0, Predicted: 0\n",
      "{'easy': 0, 'ai': 0, 'sys': 1, 'thy': 1, 'morning': 0}\tLabel: 0, Predicted: 0\n",
      "{'easy': 0, 'ai': 0, 'sys': 1, 'thy': 0, 'morning': 1}\tLabel: 0, Predicted: 0\n",
      "{'easy': 1, 'ai': 0, 'sys': 1, 'thy': 0, 'morning': 1}\tLabel: 0, Predicted: 0\n",
      "{'easy': 0, 'ai': 0, 'sys': 1, 'thy': 1, 'morning': 0}\tLabel: 0, Predicted: 0\n",
      "{'easy': 0, 'ai': 1, 'sys': 1, 'thy': 0, 'morning': 1}\tLabel: 0, Predicted: 1\n",
      "{'easy': 1, 'ai': 0, 'sys': 1, 'thy': 0, 'morning': 0}\tLabel: 0, Predicted: 0\n",
      "{'easy': 1, 'ai': 0, 'sys': 1, 'thy': 0, 'morning': 1}\tLabel: 0, Predicted: 0\n",
      "Acc: 18/20 = 0.9\n"
     ]
    }
   ],
   "source": [
    "num_correct = 0\n",
    "test_size = len(lh_attr)\n",
    "for i in range(test_size):\n",
    "    features = dict(lh_attr.loc[i])\n",
    "    label = lh.loc[i][\"y\"]\n",
    "    predicted = root.evaluate(features)\n",
    "    if predicted == label:\n",
    "        num_correct += 1\n",
    "    print(\"{0}\\tLabel: {1}, Predicted: {2}\".format(features, label, predicted))\n",
    "print(\"Acc: {0}/{1} = {2}\".format(num_correct, test_size, num_correct/test_size))\n",
    "\n"
   ]
  },
  {
   "cell_type": "code",
   "execution_count": null,
   "metadata": {},
   "outputs": [],
   "source": []
  }
 ],
 "metadata": {
  "kernelspec": {
   "display_name": "Python 3",
   "language": "python",
   "name": "python3"
  },
  "language_info": {
   "codemirror_mode": {
    "name": "ipython",
    "version": 3
   },
   "file_extension": ".py",
   "mimetype": "text/x-python",
   "name": "python",
   "nbconvert_exporter": "python",
   "pygments_lexer": "ipython3",
   "version": "3.7.6"
  }
 },
 "nbformat": 4,
 "nbformat_minor": 4
}
